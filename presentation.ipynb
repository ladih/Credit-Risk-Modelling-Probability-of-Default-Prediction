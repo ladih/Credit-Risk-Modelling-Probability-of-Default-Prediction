{
 "cells": [
  {
   "cell_type": "markdown",
   "metadata": {
    "editable": true,
    "slideshow": {
     "slide_type": ""
    },
    "tags": []
   },
   "source": [
    "# Credit Risk Modelling: Probability of Default Prediction\n",
    "\n",
    "Used logistic regression to predict probability of borrower default (PD) using real-world loan data from Lending Club. Includes variable selection, data preparation, and evaluation tools such as AUC, KS statistic, PSI, and calibration.\n",
    "\n",
    "**Programming language:** Python.\n",
    "\n",
    "**Data source:** Lending Club loan data (via Kaggle) — https://www.kaggle.com/datasets/adarshsng/lending-club-loan-data-csv"
   ]
  },
  {
   "cell_type": "markdown",
   "metadata": {},
   "source": [
    "## 1. Data Preprocessing\n",
    "\n",
    "A sample of the full dataset was used, consisting of 173,412 loans, each with 145 features."
   ]
  },
  {
   "cell_type": "code",
   "execution_count": 1,
   "metadata": {},
   "outputs": [],
   "source": [
    "import pandas as pd\n",
    "import numpy as np\n",
    "from sklearn.preprocessing import StandardScaler\n",
    "from sklearn.linear_model import LogisticRegression\n",
    "from sklearn.metrics import roc_curve, roc_auc_score, recall_score\n",
    "import matplotlib.pyplot as plt\n",
    "\n",
    "df = pd.read_csv('loan_sample.csv', low_memory=False)"
   ]
  },
  {
   "cell_type": "markdown",
   "metadata": {},
   "source": [
    "### Create binary target\n",
    "\n",
    "Loan statuses \"Charged Off\" or \"Default\" were defined as **default** and \"Fully Paid\" as **non-default**. Other statuses were excluded. \n",
    "\n",
    "Defaulted loans were encoded as 1, non-defaulted as 0.\n",
    "\n",
    "After filtering statuses, 100,000 loans remained (the sample was preprocessed to include this number of default and non-defaults)."
   ]
  },
  {
   "cell_type": "code",
   "execution_count": 2,
   "metadata": {},
   "outputs": [],
   "source": [
    "# Filter statuses\n",
    "target_statuses = ['Fully Paid', 'Charged Off', 'Default']\n",
    "df_filtered = df[df['loan_status'].isin(target_statuses)].copy()"
   ]
  },
  {
   "cell_type": "code",
   "execution_count": 3,
   "metadata": {},
   "outputs": [],
   "source": [
    "# Encode target\n",
    "df_filtered['default'] = df_filtered['loan_status'].isin(['Charged Off', 'Default']).astype(int)"
   ]
  },
  {
   "cell_type": "markdown",
   "metadata": {},
   "source": [
    "### Class distribution"
   ]
  },
  {
   "cell_type": "code",
   "execution_count": 4,
   "metadata": {},
   "outputs": [
    {
     "data": {
      "image/png": "[encoded data removed]",
      "text/plain": [
       "<Figure size 500x400 with 1 Axes>"
      ]
     },
     "metadata": {},
     "output_type": "display_data"
    }
   ],
   "source": [
    "counts = df_filtered['default'].value_counts()\n",
    "plt.figure(figsize=(5, 4))\n",
    "plt.bar(counts.index.astype(str), counts.values, color=['green','red'])\n",
    "plt.ylabel('Number of Loans')\n",
    "plt.xlabel('Class (0 = non-default, 1 = default)')\n",
    "plt.show() "
   ]
  },
  {
   "cell_type": "markdown",
   "metadata": {},
   "source": [
    "**Figure 1:** This class imbalance will make the logistic regression model more biased toward predicting probabilities near 0, since class 0 (non-defaults) represents 0. Therefore, if it is more important to correctly classify actual defaults than it is to misclassify non-defaults as default, a classification threshold smaller than 0.5 would be needed, even if that means a decrease in overall accuracy."
   ]
  },
  {
   "cell_type": "markdown",
   "metadata": {},
   "source": [
    "### Variable selection\n",
    "\n",
    "To prevent data leakage, only variables that were certainly available at the time of loan origination were included. Since most variables were uncertain in this respect, we ended up using only five of the 144 variables (in a real-world setting more variables would be used, which most certainly would improve performance). The included variables were the following: (descriptions taken from LCDataDictionary.xlsx)\n",
    "\n",
    "- **annual_inc**         - The self-reported annual income provided by the borrower during registration\n",
    "\n",
    "- **application_type**   - Indicates whether the loan is an individual application or a joint application with two co-borrowers\n",
    "\n",
    "- **dti**                - A ratio calculated using the borrower’s total monthly debt payments on the total debt obligations, excluding mortgage and the requested LC loan, divided by the borrower’s self-reported monthly income\n",
    "\n",
    "- **home_ownership**     - The home ownership status provided by the borrower during registration or obtained from the credit report. Our values are: RENT, OWN, MORTGAGE, OTHER\n",
    "\n",
    "- **purpose**            - A category provided by the borrower for the loan request\n",
    "\n",
    "Example of variables with uncertain time measurements:\n",
    "\n",
    "- **delinq_2yrs**   - The number of 30+ days past-due incidences of delinquency in the borrower's credit file for the past 2 years.  \n",
    "    *(may have been updated after loan origination)*\n",
    "\n",
    "- **loan_amnt**    - The listed amount of the loan applied for by the borrower. If at some point in time, the credit department reduces the loan amount, then it will be reflected in this value  \n",
    "  *(may have been updated after loan origination)*\n",
    "\n",
    "Extra variables:\n",
    "\n",
    "- **loan_status** - Current status of the loan      \n",
    "    *(target variable)*\n",
    "- **issue_d** - The month which the loan was funded     \n",
    "    *(used only for time-based splitting)*    "
   ]
  },
  {
   "cell_type": "code",
   "execution_count": 5,
   "metadata": {},
   "outputs": [],
   "source": [
    "selected_vars = [\n",
    "    'annual_inc',\n",
    "    'application_type',\n",
    "    'dti',\n",
    "    'home_ownership',\n",
    "    'purpose',\n",
    "    'default',  # target\n",
    "    'issue_d',  # for time-based splitting\n",
    "]\n",
    "df_model = df_filtered[selected_vars].copy()"
   ]
  },
  {
   "cell_type": "markdown",
   "metadata": {},
   "source": [
    "### Description of numeric variables"
   ]
  },
  {
   "cell_type": "code",
   "execution_count": 6,
   "metadata": {},
   "outputs": [
    {
     "data": {
      "text/html": [
       "<div>\n",
       "<style scoped>\n",
       "    .dataframe tbody tr th:only-of-type {\n",
       "        vertical-align: middle;\n",
       "    }\n",
       "\n",
       "    .dataframe tbody tr th {\n",
       "        vertical-align: top;\n",
       "    }\n",
       "\n",
       "    .dataframe thead th {\n",
       "        text-align: right;\n",
       "    }\n",
       "</style>\n",
       "<table border=\"1\" class=\"dataframe\">\n",
       "  <thead>\n",
       "    <tr style=\"text-align: right;\">\n",
       "      <th></th>\n",
       "      <th>annual_inc</th>\n",
       "      <th>dti</th>\n",
       "      <th>default</th>\n",
       "    </tr>\n",
       "  </thead>\n",
       "  <tbody>\n",
       "    <tr>\n",
       "      <th>count</th>\n",
       "      <td>1.000000e+05</td>\n",
       "      <td>99977.000000</td>\n",
       "      <td>100000.000000</td>\n",
       "    </tr>\n",
       "    <tr>\n",
       "      <th>mean</th>\n",
       "      <td>7.598839e+04</td>\n",
       "      <td>18.270974</td>\n",
       "      <td>0.200740</td>\n",
       "    </tr>\n",
       "    <tr>\n",
       "      <th>std</th>\n",
       "      <td>6.724343e+04</td>\n",
       "      <td>10.356567</td>\n",
       "      <td>0.400556</td>\n",
       "    </tr>\n",
       "    <tr>\n",
       "      <th>min</th>\n",
       "      <td>0.000000e+00</td>\n",
       "      <td>0.000000</td>\n",
       "      <td>0.000000</td>\n",
       "    </tr>\n",
       "    <tr>\n",
       "      <th>25%</th>\n",
       "      <td>4.550000e+04</td>\n",
       "      <td>11.840000</td>\n",
       "      <td>0.000000</td>\n",
       "    </tr>\n",
       "    <tr>\n",
       "      <th>50%</th>\n",
       "      <td>6.500000e+04</td>\n",
       "      <td>17.610000</td>\n",
       "      <td>0.000000</td>\n",
       "    </tr>\n",
       "    <tr>\n",
       "      <th>75%</th>\n",
       "      <td>9.000000e+04</td>\n",
       "      <td>24.060000</td>\n",
       "      <td>0.000000</td>\n",
       "    </tr>\n",
       "    <tr>\n",
       "      <th>max</th>\n",
       "      <td>8.900060e+06</td>\n",
       "      <td>999.000000</td>\n",
       "      <td>1.000000</td>\n",
       "    </tr>\n",
       "  </tbody>\n",
       "</table>\n",
       "</div>"
      ],
      "text/plain": [
       "         annual_inc           dti        default\n",
       "count  1.000000e+05  99977.000000  100000.000000\n",
       "mean   7.598839e+04     18.270974       0.200740\n",
       "std    6.724343e+04     10.356567       0.400556\n",
       "min    0.000000e+00      0.000000       0.000000\n",
       "25%    4.550000e+04     11.840000       0.000000\n",
       "50%    6.500000e+04     17.610000       0.000000\n",
       "75%    9.000000e+04     24.060000       0.000000\n",
       "max    8.900060e+06    999.000000       1.000000"
      ]
     },
     "execution_count": 6,
     "metadata": {},
     "output_type": "execute_result"
    }
   ],
   "source": [
    "df_model.describe()"
   ]
  },
  {
   "cell_type": "markdown",
   "metadata": {},
   "source": [
    "**Note:** Maximum dti is 999. These unusually high values occurred for borrowers with low reported income (mean = 430 vs. overall mean = 75,989) and were therefore retained.\n"
   ]
  },
  {
   "cell_type": "markdown",
   "metadata": {},
   "source": [
    "### Missing values\n",
    "\n",
    "The only variable with missing values was dti, with 23 (0.02%) missing entries."
   ]
  },
  {
   "cell_type": "code",
   "execution_count": 7,
   "metadata": {},
   "outputs": [
    {
     "name": "stdout",
     "output_type": "stream",
     "text": [
      "Variables with missing values:\n",
      "dti: 23 (0.02%)\n"
     ]
    }
   ],
   "source": [
    "missing_counts = df_model.isna().sum().sort_values(ascending=False)\n",
    "missing_vars = missing_counts[missing_counts > 0]\n",
    "\n",
    "total_rows = len(df_model)\n",
    "\n",
    "if len(missing_vars) > 0:\n",
    "    print(\"Variables with missing values:\")\n",
    "    for col, count in missing_vars.items():\n",
    "        percentage = (count / total_rows) * 100\n",
    "        print(f\"{col}: {count} ({percentage:.2f}%)\")\n",
    "else:\n",
    "    print(\"No missing values found\")"
   ]
  },
  {
   "cell_type": "markdown",
   "metadata": {},
   "source": [
    "As the reason for the missing values for dti was unknown, they were replaced with the median of dti, in an effort to keep them neutral/unbiased."
   ]
  },
  {
   "cell_type": "code",
   "execution_count": 8,
   "metadata": {},
   "outputs": [],
   "source": [
    "numeric_cols = df_model.select_dtypes(include=['number']).columns\n",
    "df_model[numeric_cols] = df_model[numeric_cols].fillna(df_model[numeric_cols].median())"
   ]
  },
  {
   "cell_type": "markdown",
   "metadata": {},
   "source": [
    "### One-hot encoding\n",
    "\n",
    "The categorical features (purpose, home_ownership, and application_type) were one-hot encoded."
   ]
  },
  {
   "cell_type": "code",
   "execution_count": 9,
   "metadata": {
    "scrolled": true
   },
   "outputs": [],
   "source": [
    "categorical_cols = ['purpose', 'home_ownership', 'application_type']\n",
    "df_model = pd.get_dummies(df_model, columns=categorical_cols, drop_first=True)"
   ]
  },
  {
   "cell_type": "markdown",
   "metadata": {},
   "source": [
    "### Time-based train/test split\n",
    "To prevent data leakage and mimic a real-world scenario, the data was sorted by issue date (issue_d) and split into training (first 80%) and testing (last 20%) sets."
   ]
  },
  {
   "cell_type": "code",
   "execution_count": 10,
   "metadata": {},
   "outputs": [],
   "source": [
    "# Time-based Train/test split\n",
    "df_sorted = df_model.sort_values('issue_d')\n",
    "\n",
    "split_point = int(0.8 * len(df_sorted))\n",
    "\n",
    "X_train = df_sorted.iloc[:split_point].drop(['default', 'issue_d'], axis=1)\n",
    "y_train = df_sorted.iloc[:split_point]['default']\n",
    "X_test = df_sorted.iloc[split_point:].drop(['default', 'issue_d'], axis=1)\n",
    "y_test = df_sorted.iloc[split_point:]['default']"
   ]
  },
  {
   "cell_type": "markdown",
   "metadata": {},
   "source": [
    "### Feature scaling\n",
    "\n",
    "To make the coefficients in logistic regression easier to compare, the features were scaled to have mean 0 and standard deviation 1."
   ]
  },
  {
   "cell_type": "code",
   "execution_count": 11,
   "metadata": {
    "scrolled": true
   },
   "outputs": [],
   "source": [
    "# Scaling\n",
    "scaler = StandardScaler()\n",
    "X_train_scaled = pd.DataFrame(scaler.fit_transform(X_train), columns=X_train.columns, index=X_train.index)\n",
    "X_test_scaled  = pd.DataFrame(scaler.transform(X_test), columns=X_test.columns, index=X_test.index)"
   ]
  },
  {
   "cell_type": "markdown",
   "metadata": {},
   "source": [
    "## 2. Model Training\n",
    "\n",
    "The logistic regression model estimates the probability of default for each observation as\n",
    "\n",
    "$$\n",
    "p(\\mathbf{x_1, \\dots, x_m}) = \\frac{1}{1 + \\exp\\big(-(\\beta_0 + \\beta_1 x_1 + \\dots + \\beta_m x_m)\\big)},\n",
    "$$\n",
    "\n",
    "where $x_1, \\dots, x_m$ are the input features, and $\\beta_0, \\dots, \\beta_m$ are the coefficients estimated from the training data.\n",
    "\n",
    "The formula above can also be written as\n",
    "\n",
    "$$\n",
    "\\log\\left(\\frac{p(\\bf{x})}{1 - p(\\bf{x})}\\right) = \\beta_0 + \\beta_1 x_1 + \\dots + \\beta_m x_m,\n",
    "$$\n",
    "\n",
    "which shows that inputs $x_i$ that correspond to positive coefficients $\\beta_i$ are positively correlated with the probability $p(\\bf{x})$.\n",
    "\n",
    "The model was trained using scikit-learn’s LogisticRegression class (with its default L2 regularization)."
   ]
  },
  {
   "cell_type": "code",
   "execution_count": 12,
   "metadata": {},
   "outputs": [],
   "source": [
    "# Train model and make predictions\n",
    "model = LogisticRegression()\n",
    "model.fit(X_train_scaled, y_train)\n",
    "y_pred_proba = model.predict_proba(X_test_scaled)[:, 1]\n",
    "y_pred = (y_pred_proba >= 0.5).astype(int)"
   ]
  },
  {
   "cell_type": "markdown",
   "metadata": {},
   "source": [
    "## 3. Result Metrics"
   ]
  },
  {
   "cell_type": "markdown",
   "metadata": {},
   "source": [
    "### Recall at threshold = 0.5\n",
    "\n",
    "At a classification threshold of 0.5, the model correctly classified 100% of non-defaulters but 0% of defaulters. One reason for this difference is the imbalanced class proportions. Since there are 80% non-defaults, the model is biased toward predicting probabilities near 0, since 0 represents non-defaulters. As a result, the threshold of 0.5 is rarely exceeded, leading to poor recall for defaulters and perfect recall for non-defaulters.\n",
    "\n",
    "One way to achieve a more balanced recall is to lower the classification threshold. For example, at a threshold of 0.2, the recall for defaulters is 0.58 and 0.56 for non-defaulters."
   ]
  },
  {
   "cell_type": "markdown",
   "metadata": {},
   "source": [
    "### Threshold independent metrics\n",
    "\n",
    "\n",
    "#### AUC and Gini Coefficient\n",
    "\n",
    "The model achieves an AUC of 0.605, indicating performance better than random.\n",
    "\n",
    "(Gini = 2 × AUC − 1 = 0.209)"
   ]
  },
  {
   "cell_type": "code",
   "execution_count": 13,
   "metadata": {
    "scrolled": true
   },
   "outputs": [],
   "source": [
    "# AUC and Gini\n",
    "auc = roc_auc_score(y_test, y_pred_proba)\n",
    "gini = 2 * auc - 1"
   ]
  },
  {
   "cell_type": "markdown",
   "metadata": {},
   "source": [
    "#### ROC"
   ]
  },
  {
   "cell_type": "code",
   "execution_count": 14,
   "metadata": {},
   "outputs": [
    {
     "data": {
      "image/png": "[encoded data removed]",
      "text/plain": [
       "<Figure size 600x400 with 1 Axes>"
      ]
     },
     "metadata": {},
     "output_type": "display_data"
    }
   ],
   "source": [
    "# ROC plot\n",
    "plt.figure(figsize=(6,4))\n",
    "# plot ROC curve\n",
    "fpr, tpr, thresholds = roc_curve(y_test, y_pred_proba)\n",
    "plt.plot(fpr, tpr, color='blue', lw=2, label=f'ROC curve (AUC = {auc:.3f})')\n",
    "\n",
    "# plot KS point\n",
    "ks_index = (tpr - fpr).argmax()\n",
    "plt.scatter(fpr[ks_index], tpr[ks_index], color='red', s=30, label='KS point', zorder=5)\n",
    "\n",
    "plt.plot([0, 1], [0, 1], color='gray', lw=1, linestyle='--')  # random classifier line\n",
    "plt.xlim([0.0, 1.0])\n",
    "plt.ylim([0.0, 1.05])\n",
    "plt.xlabel('False Positive Rate (FPR)')\n",
    "plt.ylabel('True Positive Rate (TPR)')\n",
    "plt.title('ROC Curve')\n",
    "plt.legend(loc=\"lower right\")\n",
    "plt.grid(True)\n",
    "plt.show()"
   ]
  },
  {
   "cell_type": "markdown",
   "metadata": {},
   "source": [
    "**Figure 2:** ROC curve showing the trade-off between TPR and FPR, with the KS point highlighted."
   ]
  },
  {
   "cell_type": "markdown",
   "metadata": {},
   "source": [
    "#### KS Statistic (Kolmogorov-Smirnov)\n",
    "\n",
    "The model’s KS statistic is 0.156, also indicating performance better than random."
   ]
  },
  {
   "cell_type": "code",
   "execution_count": 15,
   "metadata": {},
   "outputs": [],
   "source": [
    "# KS point\n",
    "ks = max(tpr - fpr)"
   ]
  },
  {
   "cell_type": "markdown",
   "metadata": {},
   "source": [
    "### Stability/Monitoring Metrics\n",
    "\n",
    "#### PSI (Population Stability Index)\n",
    "\n",
    "The Population Stability Index (PSI), which measures population drift, is 0.002 (10 bins; comparing predicted probabilities for training and test set). This indicates that the distributions of predicted probabilities for the training and test sets are very similar, which is confirmed by the plot below."
   ]
  },
  {
   "cell_type": "code",
   "execution_count": 16,
   "metadata": {
    "scrolled": true
   },
   "outputs": [],
   "source": [
    "# PSI code details\n",
    "# Predicted probabilities for the training set\n",
    "y_pred_proba_train = model.predict_proba(X_train_scaled)[:, 1]\n",
    "\n",
    "n_bins = 10\n",
    "bin_edges = np.linspace(0, 1, n_bins + 1)\n",
    "\n",
    "df_PSI_test = pd.DataFrame({'y_pred_proba': y_pred_proba})\n",
    "\n",
    "df_PSI_test['bin'] = pd.cut(df_PSI_test['y_pred_proba'], bins=bin_edges, include_lowest=True)\n",
    "\n",
    "df_test_bins = (\n",
    "    df_PSI_test.groupby('bin', observed=False)\n",
    "    .agg(count=('y_pred_proba', 'count'))\n",
    "    .reset_index()\n",
    ")\n",
    "\n",
    "df_test_bins['fraction_test'] = df_test_bins['count'] / df_test_bins['count'].sum()\n",
    "\n",
    "df_PSI_train = pd.DataFrame({'y_pred_proba_train': y_pred_proba_train})\n",
    "\n",
    "df_PSI_train['bin'] = pd.cut(df_PSI_train['y_pred_proba_train'], bins=bin_edges, include_lowest=True)\n",
    "\n",
    "df_train_bins = (\n",
    "    df_PSI_train.groupby('bin', observed=False)\n",
    "    .agg(count=('y_pred_proba_train', 'count'))\n",
    "    .reset_index()\n",
    ")\n",
    "\n",
    "df_train_bins['fraction_train'] = df_train_bins['count'] / df_train_bins['count'].sum()"
   ]
  },
  {
   "cell_type": "code",
   "execution_count": 17,
   "metadata": {
    "jupyter": {
     "source_hidden": true
    },
    "scrolled": true
   },
   "outputs": [],
   "source": [
    "def calculate_psi(train_frac, test_frac):\n",
    "    \"\"\"\n",
    "    train_frac: array of fractions per bin in the baseline population\n",
    "    test_frac: array of fractions per bin in the new population\n",
    "    \"\"\"\n",
    "    epsilon = 1e-8  # to avoid division by zero\n",
    "    psi_values = (train_frac - test_frac) * np.log((train_frac + epsilon) / (test_frac + epsilon))\n",
    "    return np.sum(psi_values)\n",
    "\n",
    "psi = calculate_psi(df_train_bins['fraction_train'], df_test_bins['fraction_test'])"
   ]
  },
  {
   "cell_type": "code",
   "execution_count": 18,
   "metadata": {},
   "outputs": [
    {
     "data": {
      "image/png": "[encoded data removed]",
      "text/plain": [
       "<Figure size 600x400 with 1 Axes>"
      ]
     },
     "metadata": {},
     "output_type": "display_data"
    }
   ],
   "source": [
    "# PSI plot code\n",
    "plt.figure(figsize=(6, 4))\n",
    "x_mid = df_test_bins['bin'].apply(lambda x: x.mid).to_numpy()\n",
    "plt.plot(x_mid, df_train_bins['fraction_train'].to_numpy(), label='Train', marker='o')\n",
    "plt.plot(x_mid, df_test_bins['fraction_test'].to_numpy(), label='Test', marker='o')\n",
    "\n",
    "plt.xticks(rotation=45)\n",
    "plt.xticks(np.arange(0, 1.01, 0.1))  # ticks at 0.0, 0.1, 0.2, ..., 1.0\n",
    "plt.xlabel(\"Probability bin\")\n",
    "plt.ylabel(\"Fraction of samples\")\n",
    "plt.title(\"Distribution of predicted probabilities (Train vs Test)\")\n",
    "plt.legend()\n",
    "plt.tight_layout()\n",
    "plt.show()"
   ]
  },
  {
   "cell_type": "markdown",
   "metadata": {},
   "source": [
    "**Figure 3:** Plot confirming the small PSI value (the training curve is barely visible). The plot also shows that most predicted probabilities lie between 0 and 0.5, reflecting the class imbalance (80% non-defaults)."
   ]
  },
  {
   "cell_type": "markdown",
   "metadata": {},
   "source": [
    "### Calibration"
   ]
  },
  {
   "cell_type": "code",
   "execution_count": 19,
   "metadata": {
    "scrolled": true
   },
   "outputs": [
    {
     "data": {
      "image/png": "[encoded data removed]",
      "text/plain": [
       "<Figure size 600x400 with 1 Axes>"
      ]
     },
     "metadata": {},
     "output_type": "display_data"
    }
   ],
   "source": [
    "# Calibration plot code\n",
    "df_calibration = pd.DataFrame({\n",
    "    'y_test': y_test,\n",
    "    'y_pred_proba': y_pred_proba\n",
    "})\n",
    "\n",
    "n_bins_cali = 10\n",
    "bin_edges = np.linspace(0, 1, n_bins_cali + 1)\n",
    "\n",
    "df_calibration[\"bin\"] = pd.cut(df_calibration['y_pred_proba'], bins=bin_edges, include_lowest=True)\n",
    "calibration_table = df_calibration.groupby('bin', observed=False).agg(\n",
    "    avg_pred=('y_pred_proba', 'mean'),          # Average predicted PD in the bin\n",
    "    obs_default_rate=('y_test', 'mean'),        # Fraction of defaults in the bin\n",
    ").reset_index() # make the bins a column instead of index, and use standard index\n",
    "\n",
    "plt.figure(figsize=(6,4))\n",
    "plt.plot([0,1], [0,1], 'k--', label='Perfect calibration')\n",
    "plt.plot(calibration_table['avg_pred'].to_numpy(), calibration_table['obs_default_rate'].to_numpy(), marker='o', label='Model')\n",
    "plt.xlabel('Average Predicted PD')\n",
    "plt.ylabel('Observed Default Rate')\n",
    "plt.title('Calibration Plot')\n",
    "plt.legend()\n",
    "plt.show()"
   ]
  },
  {
   "cell_type": "markdown",
   "metadata": {},
   "source": [
    "**Figure 4:** The calibration plot shows how well predicted probabilities correspond to the actual fraction of defaulters. For example, if the average predicted probability in the bin [0, 0.1] is 0.06, the fraction of actual defaulters in that bin should also be approximately 0.06.\n",
    "\n",
    "As we can see, the calibration starts failing at the exact same spot as where the distribution of predicted probabilities (plot above) approaches zero. One reason for this could be that since there are few samples at higher probabilities, the fractions get more sensitive to non-default outliers with high probability predictions, hence causing the model to overestimate probabilities in the upper range."
   ]
  },
  {
   "cell_type": "markdown",
   "metadata": {},
   "source": [
    "### Feature Importance"
   ]
  },
  {
   "cell_type": "code",
   "execution_count": 20,
   "metadata": {},
   "outputs": [
    {
     "data": {
      "text/html": [
       "<style type=\"text/css\">\n",
       "</style>\n",
       "<table id=\"T_18b99\">\n",
       "  <thead>\n",
       "    <tr>\n",
       "      <th id=\"T_18b99_level0_col0\" class=\"col_heading level0 col0\" >Feature</th>\n",
       "      <th id=\"T_18b99_level0_col1\" class=\"col_heading level0 col1\" >Coefficient</th>\n",
       "    </tr>\n",
       "  </thead>\n",
       "  <tbody>\n",
       "    <tr>\n",
       "      <td id=\"T_18b99_row0_col0\" class=\"data row0 col0\" >purpose_debt_consolidation</td>\n",
       "      <td id=\"T_18b99_row0_col1\" class=\"data row0 col1\" >0.321000</td>\n",
       "    </tr>\n",
       "    <tr>\n",
       "      <td id=\"T_18b99_row1_col0\" class=\"data row1 col0\" >dti</td>\n",
       "      <td id=\"T_18b99_row1_col1\" class=\"data row1 col1\" >0.261000</td>\n",
       "    </tr>\n",
       "    <tr>\n",
       "      <td id=\"T_18b99_row2_col0\" class=\"data row2 col0\" >purpose_home_improvement</td>\n",
       "      <td id=\"T_18b99_row2_col1\" class=\"data row2 col1\" >0.179000</td>\n",
       "    </tr>\n",
       "    <tr>\n",
       "      <td id=\"T_18b99_row3_col0\" class=\"data row3 col0\" >purpose_credit_card</td>\n",
       "      <td id=\"T_18b99_row3_col1\" class=\"data row3 col1\" >0.170000</td>\n",
       "    </tr>\n",
       "    <tr>\n",
       "      <td id=\"T_18b99_row4_col0\" class=\"data row4 col0\" >purpose_other</td>\n",
       "      <td id=\"T_18b99_row4_col1\" class=\"data row4 col1\" >0.143000</td>\n",
       "    </tr>\n",
       "  </tbody>\n",
       "</table>\n"
      ],
      "text/plain": [
       "<pandas.io.formats.style.Styler at 0x21228e8acf0>"
      ]
     },
     "execution_count": 20,
     "metadata": {},
     "output_type": "execute_result"
    }
   ],
   "source": [
    "# feature importance code\n",
    "feature_importance = pd.DataFrame({\n",
    "    'Feature': X_train.columns,\n",
    "    'Coefficient': model.coef_[0].round(3)\n",
    "}).sort_values('Coefficient', key=abs, ascending=False)\n",
    "\n",
    "top_n_features = 5\n",
    "feature_importance.head(top_n_features)\n",
    "\n",
    "\n",
    "top_features = feature_importance.head(top_n_features)\n",
    "top_features.style.hide(axis='index')"
   ]
  },
  {
   "cell_type": "markdown",
   "metadata": {},
   "source": [
    "## Summary\n",
    "\n",
    "The model's AUC of 0.605 suggests performance better than random, which indicates that the chosen variables do provide information about whether a loan will default or not. In particular, the five features in the feature importance table above are expected to provide useful infromation when predicting probability of default."
   ]
  },
  {
   "cell_type": "markdown",
   "metadata": {},
   "source": [
    "## Appendix: Full Python Code\n",
    "\n",
    "```python\n",
    "# Using Lending Club Loan Data,\n",
    "# https://www.kaggle.com/datasets/adarshsng/lending-club-loan-data-csv\n",
    "\n",
    "# Import libraries\n",
    "import pandas as pd\n",
    "import numpy as np\n",
    "from sklearn.preprocessing import StandardScaler\n",
    "from sklearn.linear_model import LogisticRegression\n",
    "from sklearn.metrics import roc_curve, roc_auc_score, recall_score\n",
    "import matplotlib.pyplot as plt\n",
    "\n",
    "# Load sample dataset\n",
    "df = pd.read_csv('loan_sample.csv', low_memory=False)\n",
    "\n",
    "# Filter statuses\n",
    "target_statuses = ['Fully Paid', 'Charged Off', 'Default']\n",
    "df_filtered = df[df['loan_status'].isin(target_statuses)].copy()\n",
    "\n",
    "# Encode target\n",
    "df_filtered['default'] = df_filtered['loan_status'].isin(['Charged Off', 'Default']).astype(int)\n",
    "\n",
    "# Class distribution code\n",
    "counts = df_filtered['default'].value_counts()\n",
    "plt.figure(figsize=(6, 4))\n",
    "plt.bar(counts.index.astype(str), counts.values, color=['green','red'])\n",
    "plt.ylabel('Number of Loans')\n",
    "plt.xlabel('Class (0 = non-default, 1 = default)')\n",
    "plt.title('Class Distribution')\n",
    "plt.show() \n",
    "\n",
    "for cls in counts.index:\n",
    "    print(f\"Class {cls}: {counts[cls]} ({percent[cls]:.2f}%)\")\n",
    "\n",
    "# Variable selection code\n",
    "selected_vars = [\n",
    "    'annual_inc',\n",
    "    'application_type',\n",
    "    'dti',\n",
    "    'home_ownership',\n",
    "    'purpose',\n",
    "    'default',  # target\n",
    "    'issue_d',  # for time-based splitting\n",
    "]\n",
    "df_model = df_filtered[selected_vars].copy()\n",
    "\n",
    "# Numeric variables description code\n",
    "df_model.describe()\n",
    "\n",
    "# Missing values code\n",
    "missing_counts = df_model.isna().sum().sort_values(ascending=False)\n",
    "missing_vars = missing_counts[missing_counts > 0]\n",
    "\n",
    "total_rows = len(df_model)\n",
    "\n",
    "if len(missing_vars) > 0:\n",
    "    print(\"Variables with missing values:\")\n",
    "    for col, count in missing_vars.items():\n",
    "        percentage = (count / total_rows) * 100\n",
    "        print(f\"{col}: {count} ({percentage:.2f}%)\")\n",
    "else:\n",
    "    print(\"No missing values found\")\n",
    "\n",
    "# Replace missing values code\n",
    "numeric_cols = df_model.select_dtypes(include=['number']).columns\n",
    "df_model[numeric_cols] = df_model[numeric_cols].fillna(df_model[numeric_cols].median())\n",
    "\n",
    "# One hot encoding code\n",
    "categorical_cols = ['purpose', 'home_ownership', 'application_type']\n",
    "df_model = pd.get_dummies(df_model, columns=categorical_cols, drop_first=True)\n",
    "\n",
    "# Time-based Train/test split\n",
    "df_sorted = df_model.sort_values('issue_d')\n",
    "\n",
    "split_point = int(0.8 * len(df_sorted))\n",
    "\n",
    "X_train = df_sorted.iloc[:split_point].drop(['default', 'issue_d'], axis=1)\n",
    "y_train = df_sorted.iloc[:split_point]['default']\n",
    "X_test = df_sorted.iloc[split_point:].drop(['default', 'issue_d'], axis=1)\n",
    "y_test = df_sorted.iloc[split_point:]['default']\n",
    "\n",
    "# Scaling\n",
    "scaler = StandardScaler()\n",
    "X_train_scaled = scaler.fit_transform(X_train)\n",
    "X_test_scaled = scaler.transform(X_test)\n",
    "\n",
    "\n",
    "# Train model and make predictions\n",
    "model = LogisticRegression() # L2 regularization by default\n",
    "model.fit(X_train_scaled, y_train)\n",
    "y_pred_proba = model.predict_proba(X_test_scaled)[:, 1]\n",
    "y_pred = (y_pred_proba >= 0.5).astype(int)\n",
    "\n",
    "\n",
    "# Calculate recall\n",
    "recall_0 = recall_score(y_test, y_pred, pos_label=0)\n",
    "recall_1 = recall_score(y_test, y_pred, pos_label=1)\n",
    "\n",
    "print(f\"Class 0 recall: {recall_0:.2f}\\n\"\n",
    "      f\"Class 1 recall: {recall_1:.2f}\")\n",
    "\n",
    "\n",
    "# AUC and Gini\n",
    "auc = roc_auc_score(y_test, y_pred_proba)\n",
    "print(f\"\\nAUC: {auc:.3f}\")\n",
    "\n",
    "gini = 2 * auc - 1\n",
    "print(f\"Gini coefficient: {gini:.3f}\")\n",
    "\n",
    "\n",
    "# ROC plot\n",
    "plt.figure(figsize=(6,4))\n",
    "# plot ROC curve\n",
    "fpr, tpr, thresholds = roc_curve(y_test, y_pred_proba)\n",
    "plt.plot(fpr, tpr, color='blue', lw=2, label=f'ROC curve (AUC = {auc:.3f})')\n",
    "\n",
    "# plot KS point\n",
    "ks_index = (tpr - fpr).argmax()\n",
    "plt.scatter(fpr[ks_index], tpr[ks_index], color='red', s=30, label='KS point', zorder=5)\n",
    "\n",
    "plt.plot([0, 1], [0, 1], color='gray', lw=1, linestyle='--')  # random classifier line\n",
    "plt.xlim([0.0, 1.0])\n",
    "plt.ylim([0.0, 1.05])\n",
    "plt.xlabel('False Positive Rate (FPR)')\n",
    "plt.ylabel('True Positive Rate (TPR)')\n",
    "plt.title('ROC Curve')\n",
    "plt.legend(loc=\"lower right\")\n",
    "plt.grid(True)\n",
    "plt.show()\n",
    "\n",
    "\n",
    "# KS point\n",
    "ks = max(tpr - fpr)\n",
    "print(f'KS: {ks:.3f}')\n",
    "\n",
    "\n",
    "# PSI code details\n",
    "# Predicted probabilities for the training set\n",
    "y_pred_proba_train = model.predict_proba(X_train_scaled)[:, 1]\n",
    "\n",
    "n_bins = 10\n",
    "bin_edges = np.linspace(0, 1, n_bins + 1)\n",
    "\n",
    "df_PSI_test = pd.DataFrame({'y_pred_proba': y_pred_proba})\n",
    "\n",
    "df_PSI_test['bin'] = pd.cut(df_PSI_test['y_pred_proba'], bins=bin_edges, include_lowest=True)\n",
    "\n",
    "df_test_bins = (\n",
    "    df_PSI_test.groupby('bin')\n",
    "    .agg(count=('y_pred_proba', 'count'))\n",
    "    .reset_index()\n",
    ")\n",
    "\n",
    "df_test_bins['fraction_test'] = df_test_bins['count'] / df_test_bins['count'].sum()\n",
    "\n",
    "df_PSI_train = pd.DataFrame({'y_pred_proba_train': y_pred_proba_train})\n",
    "\n",
    "df_PSI_train['bin'] = pd.cut(df_PSI_train['y_pred_proba_train'], bins=bin_edges, include_lowest=True)\n",
    "\n",
    "df_train_bins = (\n",
    "    df_PSI_train.groupby('bin')\n",
    "    .agg(count=('y_pred_proba_train', 'count'))\n",
    "    .reset_index()\n",
    ")\n",
    "\n",
    "df_train_bins['fraction_train'] = df_train_bins['count'] / df_train_bins['count'].sum()\n",
    "\n",
    "def calculate_psi(train_frac, test_frac):\n",
    "    \"\"\"\n",
    "    train_frac: array of fractions per bin in the baseline population\n",
    "    test_frac: array of fractions per bin in the new population\n",
    "    \"\"\"\n",
    "    epsilon = 1e-8  # to avoid division by zero\n",
    "    psi_values = (train_frac - test_frac) * np.log((train_frac + epsilon) / (test_frac + epsilon))\n",
    "    return np.sum(psi_values)\n",
    "\n",
    "psi = calculate_psi(df_train_bins['fraction_train'], df_test_bins['fraction_test'])\n",
    "print(f'PSI ({n_bins} bins): {psi:.3f}')\n",
    "\n",
    "\n",
    "# PSI plot code\n",
    "plt.figure(figsize=(6,4))\n",
    "x_mid = df_test_bins['bin'].apply(lambda x: x.mid).to_numpy()\n",
    "plt.plot(x_mid, df_train_bins['fraction_train'].to_numpy(), label='Train', marker='o')\n",
    "plt.plot(x_mid, df_test_bins['fraction_test'].to_numpy(), label='Test', marker='o')\n",
    "\n",
    "plt.xticks(rotation=45)\n",
    "plt.xticks(np.arange(0, 1.01, 0.1))  # ticks at 0.0, 0.1, 0.2, ..., 1.0\n",
    "plt.xlabel(\"Probability bin\")\n",
    "plt.ylabel(\"Fraction of samples\")\n",
    "plt.title(\"Distribution of predicted probabilities (Train vs Test)\")\n",
    "plt.legend()\n",
    "plt.tight_layout()\n",
    "plt.show()\n",
    "\n",
    "# Calibration plot code\n",
    "df_calibration = pd.DataFrame({\n",
    "    'y_test': y_test,\n",
    "    'y_pred_proba': y_pred_proba\n",
    "})\n",
    "\n",
    "n_bins_cali = 10\n",
    "bin_edges = np.linspace(0, 1, n_bins_cali + 1)\n",
    "\n",
    "df_calibration[\"bin\"] = pd.cut(df_calibration['y_pred_proba'], bins=bin_edges, include_lowest=True)\n",
    "calibration_table = df_calibration.groupby('bin').agg(\n",
    "    avg_pred=('y_pred_proba', 'mean'),          # Average predicted PD in the bin\n",
    "    obs_default_rate=('y_test', 'mean'),        # Fraction of defaults in the bin\n",
    ").reset_index() # make the bins a column instead of index, and use standard index\n",
    "\n",
    "plt.figure(figsize=(6,4))\n",
    "plt.plot([0,1], [0,1], 'k--', label='Perfect calibration')\n",
    "plt.plot(calibration_table['avg_pred'].to_numpy(), calibration_table['obs_default_rate'].to_numpy(), marker='o', label='Model')\n",
    "plt.xlabel('Average Predicted PD')\n",
    "plt.ylabel('Observed Default Rate')\n",
    "plt.title('Calibration Plot')\n",
    "plt.legend()\n",
    "plt.show()\n",
    "\n",
    "# feature importance code\n",
    "feature_importance = pd.DataFrame({\n",
    "    'Feature': X_train.columns,\n",
    "    'Coefficient': model.coef_[0].round(3)\n",
    "}).sort_values('Coefficient', key=abs, ascending=False)\n",
    "top_n_features = 5\n",
    "feature_importance.head(top_n_features)\n",
    "\n",
    "top_features = feature_importance.head(top_n_features)\n",
    "top_features.style.hide(axis='index')\n"
   ]
  }
 ],
 "metadata": {
  "kernelspec": {
   "display_name": "Python 3 (ipykernel)",
   "language": "python",
   "name": "python3"
  },
  "language_info": {
   "codemirror_mode": {
    "name": "ipython",
    "version": 3
   },
   "file_extension": ".py",
   "mimetype": "text/x-python",
   "name": "python",
   "nbconvert_exporter": "python",
   "pygments_lexer": "ipython3",
   "version": "3.13.7"
  }
 },
 "nbformat": 4,
 "nbformat_minor": 4
}
